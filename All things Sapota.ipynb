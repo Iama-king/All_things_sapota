{
 "cells": [
  {
   "cell_type": "code",
   "execution_count": 84,
   "id": "294b2f32",
   "metadata": {},
   "outputs": [],
   "source": [
    "import pandas as pd\n",
    "import numpy as np\n",
    "from datetime import datetime\n",
    "import matplotlib.pyplot as plt"
   ]
  },
  {
   "cell_type": "code",
   "execution_count": 85,
   "id": "8e20bb32",
   "metadata": {},
   "outputs": [
    {
     "data": {
      "text/html": [
       "<div>\n",
       "<style scoped>\n",
       "    .dataframe tbody tr th:only-of-type {\n",
       "        vertical-align: middle;\n",
       "    }\n",
       "\n",
       "    .dataframe tbody tr th {\n",
       "        vertical-align: top;\n",
       "    }\n",
       "\n",
       "    .dataframe thead th {\n",
       "        text-align: right;\n",
       "    }\n",
       "</style>\n",
       "<table border=\"1\" class=\"dataframe\">\n",
       "  <thead>\n",
       "    <tr style=\"text-align: right;\">\n",
       "      <th></th>\n",
       "      <th>Date</th>\n",
       "      <th>Firm bought from</th>\n",
       "      <th>Buying price</th>\n",
       "      <th>Customer</th>\n",
       "      <th>Selling price</th>\n",
       "      <th>Quantity sold</th>\n",
       "    </tr>\n",
       "  </thead>\n",
       "  <tbody>\n",
       "    <tr>\n",
       "      <th>0</th>\n",
       "      <td>21/08/23</td>\n",
       "      <td>Vendor6</td>\n",
       "      <td>72.11</td>\n",
       "      <td>Customer7</td>\n",
       "      <td>91.58</td>\n",
       "      <td>44</td>\n",
       "    </tr>\n",
       "    <tr>\n",
       "      <th>1</th>\n",
       "      <td>21/08/23</td>\n",
       "      <td>Vendor4</td>\n",
       "      <td>75.08</td>\n",
       "      <td>Customer7</td>\n",
       "      <td>83.71</td>\n",
       "      <td>17</td>\n",
       "    </tr>\n",
       "    <tr>\n",
       "      <th>2</th>\n",
       "      <td>21/08/23</td>\n",
       "      <td>Vendor7</td>\n",
       "      <td>83.93</td>\n",
       "      <td>Customer2</td>\n",
       "      <td>103.76</td>\n",
       "      <td>15</td>\n",
       "    </tr>\n",
       "    <tr>\n",
       "      <th>3</th>\n",
       "      <td>21/08/23</td>\n",
       "      <td>Vendor7</td>\n",
       "      <td>52.01</td>\n",
       "      <td>Customer3</td>\n",
       "      <td>64.53</td>\n",
       "      <td>7</td>\n",
       "    </tr>\n",
       "    <tr>\n",
       "      <th>4</th>\n",
       "      <td>21/08/23</td>\n",
       "      <td>Vendor2</td>\n",
       "      <td>98.91</td>\n",
       "      <td>Customer5</td>\n",
       "      <td>140.92</td>\n",
       "      <td>1</td>\n",
       "    </tr>\n",
       "  </tbody>\n",
       "</table>\n",
       "</div>"
      ],
      "text/plain": [
       "       Date Firm bought from  Buying price   Customer  Selling price  \\\n",
       "0  21/08/23          Vendor6         72.11  Customer7          91.58   \n",
       "1  21/08/23          Vendor4         75.08  Customer7          83.71   \n",
       "2  21/08/23          Vendor7         83.93  Customer2         103.76   \n",
       "3  21/08/23          Vendor7         52.01  Customer3          64.53   \n",
       "4  21/08/23          Vendor2         98.91  Customer5         140.92   \n",
       "\n",
       "   Quantity sold  \n",
       "0             44  \n",
       "1             17  \n",
       "2             15  \n",
       "3              7  \n",
       "4              1  "
      ]
     },
     "execution_count": 85,
     "metadata": {},
     "output_type": "execute_result"
    }
   ],
   "source": [
    "sales=pd.read_csv('sales_data_1.csv')\n",
    "sales.head()"
   ]
  },
  {
   "cell_type": "code",
   "execution_count": 86,
   "id": "c26ac379",
   "metadata": {},
   "outputs": [
    {
     "data": {
      "text/html": [
       "<div>\n",
       "<style scoped>\n",
       "    .dataframe tbody tr th:only-of-type {\n",
       "        vertical-align: middle;\n",
       "    }\n",
       "\n",
       "    .dataframe tbody tr th {\n",
       "        vertical-align: top;\n",
       "    }\n",
       "\n",
       "    .dataframe thead th {\n",
       "        text-align: right;\n",
       "    }\n",
       "</style>\n",
       "<table border=\"1\" class=\"dataframe\">\n",
       "  <thead>\n",
       "    <tr style=\"text-align: right;\">\n",
       "      <th></th>\n",
       "      <th>Date</th>\n",
       "      <th>Firm bought from</th>\n",
       "      <th>Buying price</th>\n",
       "      <th>Customer</th>\n",
       "      <th>Selling price</th>\n",
       "      <th>Quantity sold</th>\n",
       "    </tr>\n",
       "  </thead>\n",
       "  <tbody>\n",
       "    <tr>\n",
       "      <th>0</th>\n",
       "      <td>21/08/23</td>\n",
       "      <td>Vendor6</td>\n",
       "      <td>72.11</td>\n",
       "      <td>Customer7</td>\n",
       "      <td>91.58</td>\n",
       "      <td>44</td>\n",
       "    </tr>\n",
       "    <tr>\n",
       "      <th>1</th>\n",
       "      <td>21/08/23</td>\n",
       "      <td>Vendor4</td>\n",
       "      <td>75.08</td>\n",
       "      <td>Customer7</td>\n",
       "      <td>83.71</td>\n",
       "      <td>17</td>\n",
       "    </tr>\n",
       "    <tr>\n",
       "      <th>2</th>\n",
       "      <td>21/08/23</td>\n",
       "      <td>Vendor7</td>\n",
       "      <td>83.93</td>\n",
       "      <td>Customer2</td>\n",
       "      <td>103.76</td>\n",
       "      <td>15</td>\n",
       "    </tr>\n",
       "    <tr>\n",
       "      <th>3</th>\n",
       "      <td>21/08/23</td>\n",
       "      <td>Vendor7</td>\n",
       "      <td>52.01</td>\n",
       "      <td>Customer3</td>\n",
       "      <td>64.53</td>\n",
       "      <td>7</td>\n",
       "    </tr>\n",
       "    <tr>\n",
       "      <th>4</th>\n",
       "      <td>21/08/23</td>\n",
       "      <td>Vendor2</td>\n",
       "      <td>98.91</td>\n",
       "      <td>Customer5</td>\n",
       "      <td>140.92</td>\n",
       "      <td>1</td>\n",
       "    </tr>\n",
       "    <tr>\n",
       "      <th>...</th>\n",
       "      <td>...</td>\n",
       "      <td>...</td>\n",
       "      <td>...</td>\n",
       "      <td>...</td>\n",
       "      <td>...</td>\n",
       "      <td>...</td>\n",
       "    </tr>\n",
       "    <tr>\n",
       "      <th>65</th>\n",
       "      <td>27/08/23</td>\n",
       "      <td>Vendor4</td>\n",
       "      <td>64.82</td>\n",
       "      <td>Customer6</td>\n",
       "      <td>87.45</td>\n",
       "      <td>18</td>\n",
       "    </tr>\n",
       "    <tr>\n",
       "      <th>66</th>\n",
       "      <td>27/08/23</td>\n",
       "      <td>Vendor8</td>\n",
       "      <td>88.79</td>\n",
       "      <td>Customer3</td>\n",
       "      <td>105.59</td>\n",
       "      <td>5</td>\n",
       "    </tr>\n",
       "    <tr>\n",
       "      <th>67</th>\n",
       "      <td>27/08/23</td>\n",
       "      <td>Vendor5</td>\n",
       "      <td>63.30</td>\n",
       "      <td>Customer5</td>\n",
       "      <td>92.92</td>\n",
       "      <td>32</td>\n",
       "    </tr>\n",
       "    <tr>\n",
       "      <th>68</th>\n",
       "      <td>27/08/23</td>\n",
       "      <td>Vendor5</td>\n",
       "      <td>94.06</td>\n",
       "      <td>Customer5</td>\n",
       "      <td>125.67</td>\n",
       "      <td>4</td>\n",
       "    </tr>\n",
       "    <tr>\n",
       "      <th>69</th>\n",
       "      <td>27/08/23</td>\n",
       "      <td>Vendor5</td>\n",
       "      <td>56.28</td>\n",
       "      <td>Customer6</td>\n",
       "      <td>82.16</td>\n",
       "      <td>1</td>\n",
       "    </tr>\n",
       "  </tbody>\n",
       "</table>\n",
       "<p>70 rows × 6 columns</p>\n",
       "</div>"
      ],
      "text/plain": [
       "        Date Firm bought from  Buying price   Customer  Selling price  \\\n",
       "0   21/08/23          Vendor6         72.11  Customer7          91.58   \n",
       "1   21/08/23          Vendor4         75.08  Customer7          83.71   \n",
       "2   21/08/23          Vendor7         83.93  Customer2         103.76   \n",
       "3   21/08/23          Vendor7         52.01  Customer3          64.53   \n",
       "4   21/08/23          Vendor2         98.91  Customer5         140.92   \n",
       "..       ...              ...           ...        ...            ...   \n",
       "65  27/08/23          Vendor4         64.82  Customer6          87.45   \n",
       "66  27/08/23          Vendor8         88.79  Customer3         105.59   \n",
       "67  27/08/23          Vendor5         63.30  Customer5          92.92   \n",
       "68  27/08/23          Vendor5         94.06  Customer5         125.67   \n",
       "69  27/08/23          Vendor5         56.28  Customer6          82.16   \n",
       "\n",
       "    Quantity sold  \n",
       "0              44  \n",
       "1              17  \n",
       "2              15  \n",
       "3               7  \n",
       "4               1  \n",
       "..            ...  \n",
       "65             18  \n",
       "66              5  \n",
       "67             32  \n",
       "68              4  \n",
       "69              1  \n",
       "\n",
       "[70 rows x 6 columns]"
      ]
     },
     "execution_count": 86,
     "metadata": {},
     "output_type": "execute_result"
    }
   ],
   "source": [
    "sales"
   ]
  },
  {
   "cell_type": "code",
   "execution_count": 87,
   "id": "54853c59",
   "metadata": {},
   "outputs": [
    {
     "data": {
      "text/html": [
       "<div>\n",
       "<style scoped>\n",
       "    .dataframe tbody tr th:only-of-type {\n",
       "        vertical-align: middle;\n",
       "    }\n",
       "\n",
       "    .dataframe tbody tr th {\n",
       "        vertical-align: top;\n",
       "    }\n",
       "\n",
       "    .dataframe thead th {\n",
       "        text-align: right;\n",
       "    }\n",
       "</style>\n",
       "<table border=\"1\" class=\"dataframe\">\n",
       "  <thead>\n",
       "    <tr style=\"text-align: right;\">\n",
       "      <th></th>\n",
       "      <th>Date</th>\n",
       "      <th>Firm bought from</th>\n",
       "      <th>Buying price</th>\n",
       "      <th>Customer</th>\n",
       "      <th>Selling price</th>\n",
       "      <th>Quantity sold</th>\n",
       "      <th>Revenue</th>\n",
       "      <th>Profit</th>\n",
       "      <th>Cost</th>\n",
       "    </tr>\n",
       "  </thead>\n",
       "  <tbody>\n",
       "    <tr>\n",
       "      <th>0</th>\n",
       "      <td>21/08/23</td>\n",
       "      <td>Vendor6</td>\n",
       "      <td>72.11</td>\n",
       "      <td>Customer7</td>\n",
       "      <td>91.58</td>\n",
       "      <td>44</td>\n",
       "      <td>4029.52</td>\n",
       "      <td>856.68</td>\n",
       "      <td>3172.84</td>\n",
       "    </tr>\n",
       "    <tr>\n",
       "      <th>1</th>\n",
       "      <td>21/08/23</td>\n",
       "      <td>Vendor4</td>\n",
       "      <td>75.08</td>\n",
       "      <td>Customer7</td>\n",
       "      <td>83.71</td>\n",
       "      <td>17</td>\n",
       "      <td>1423.07</td>\n",
       "      <td>146.71</td>\n",
       "      <td>1276.36</td>\n",
       "    </tr>\n",
       "    <tr>\n",
       "      <th>2</th>\n",
       "      <td>21/08/23</td>\n",
       "      <td>Vendor7</td>\n",
       "      <td>83.93</td>\n",
       "      <td>Customer2</td>\n",
       "      <td>103.76</td>\n",
       "      <td>15</td>\n",
       "      <td>1556.40</td>\n",
       "      <td>297.45</td>\n",
       "      <td>1258.95</td>\n",
       "    </tr>\n",
       "    <tr>\n",
       "      <th>3</th>\n",
       "      <td>21/08/23</td>\n",
       "      <td>Vendor7</td>\n",
       "      <td>52.01</td>\n",
       "      <td>Customer3</td>\n",
       "      <td>64.53</td>\n",
       "      <td>7</td>\n",
       "      <td>451.71</td>\n",
       "      <td>87.64</td>\n",
       "      <td>364.07</td>\n",
       "    </tr>\n",
       "    <tr>\n",
       "      <th>4</th>\n",
       "      <td>21/08/23</td>\n",
       "      <td>Vendor2</td>\n",
       "      <td>98.91</td>\n",
       "      <td>Customer5</td>\n",
       "      <td>140.92</td>\n",
       "      <td>1</td>\n",
       "      <td>140.92</td>\n",
       "      <td>42.01</td>\n",
       "      <td>98.91</td>\n",
       "    </tr>\n",
       "  </tbody>\n",
       "</table>\n",
       "</div>"
      ],
      "text/plain": [
       "       Date Firm bought from  Buying price   Customer  Selling price  \\\n",
       "0  21/08/23          Vendor6         72.11  Customer7          91.58   \n",
       "1  21/08/23          Vendor4         75.08  Customer7          83.71   \n",
       "2  21/08/23          Vendor7         83.93  Customer2         103.76   \n",
       "3  21/08/23          Vendor7         52.01  Customer3          64.53   \n",
       "4  21/08/23          Vendor2         98.91  Customer5         140.92   \n",
       "\n",
       "   Quantity sold  Revenue  Profit     Cost  \n",
       "0             44  4029.52  856.68  3172.84  \n",
       "1             17  1423.07  146.71  1276.36  \n",
       "2             15  1556.40  297.45  1258.95  \n",
       "3              7   451.71   87.64   364.07  \n",
       "4              1   140.92   42.01    98.91  "
      ]
     },
     "execution_count": 87,
     "metadata": {},
     "output_type": "execute_result"
    }
   ],
   "source": [
    "#Calculate profit\n",
    "sales['Revenue']=sales['Selling price']*sales['Quantity sold']\n",
    "sales['Profit']=(sales['Selling price']-sales['Buying price'])*sales['Quantity sold']\n",
    "sales['Cost']=(sales['Buying price'])*sales['Quantity sold']\n",
    "sales.head()"
   ]
  },
  {
   "cell_type": "code",
   "execution_count": 88,
   "id": "374c505d",
   "metadata": {},
   "outputs": [
    {
     "name": "stdout",
     "output_type": "stream",
     "text": [
      "the overall gross margin percentage is :  24.633558915188363\n"
     ]
    }
   ],
   "source": [
    "#q1) total gross margin\n",
    "revenue=sum(sales['Revenue'])\n",
    "cost=sum(sales['Cost'])#sales['Buying price']*sales['Quantity sold']\n",
    "overall_gross_margin=(revenue-cost)/revenue\n",
    "overall_gross_margin*=100\n",
    "print(\"the overall gross margin percentage is : \",overall_gross_margin)"
   ]
  },
  {
   "cell_type": "code",
   "execution_count": 89,
   "id": "1e228a5a",
   "metadata": {},
   "outputs": [],
   "source": [
    "#q2) most profitable vendor is the vendor who the firm payed more money to:  that is no.of units sold * cost per unit \n",
    "vendor_tot= sales.groupby('Firm bought from')['Cost'].sum()\n",
    "most_profit_vendor=vendor_tot.idxmax()"
   ]
  },
  {
   "cell_type": "code",
   "execution_count": 90,
   "id": "02630b3a",
   "metadata": {},
   "outputs": [
    {
     "data": {
      "text/plain": [
       "Firm bought from\n",
       "Vendor1      5357.15\n",
       "Vendor10     8400.01\n",
       "Vendor2      5407.49\n",
       "Vendor3     16767.60\n",
       "Vendor4     20351.91\n",
       "Vendor5      5873.62\n",
       "Vendor6      4269.92\n",
       "Vendor7     16828.71\n",
       "Vendor8      1140.10\n",
       "Vendor9     11925.05\n",
       "Name: Cost, dtype: float64"
      ]
     },
     "execution_count": 90,
     "metadata": {},
     "output_type": "execute_result"
    }
   ],
   "source": [
    "vendor_tot"
   ]
  },
  {
   "cell_type": "code",
   "execution_count": 91,
   "id": "738c4631",
   "metadata": {},
   "outputs": [
    {
     "data": {
      "text/plain": [
       "'Vendor4'"
      ]
     },
     "execution_count": 91,
     "metadata": {},
     "output_type": "execute_result"
    }
   ],
   "source": [
    "most_profit_vendor"
   ]
  },
  {
   "cell_type": "code",
   "execution_count": 92,
   "id": "a39a8383",
   "metadata": {},
   "outputs": [
    {
     "data": {
      "text/plain": [
       "'Vendor8'"
      ]
     },
     "execution_count": 92,
     "metadata": {},
     "output_type": "execute_result"
    }
   ],
   "source": [
    "#Q3)least profitable vendor is the vendor who the firm payed least money to:  that is no.of units sold * cost per unit \n",
    "least_profit_vendor=vendor_tot.idxmin()\n",
    "least_profit_vendor"
   ]
  },
  {
   "cell_type": "code",
   "execution_count": 93,
   "id": "d9486bfc",
   "metadata": {},
   "outputs": [],
   "source": [
    "#Q4 day of the week was most profitable for firm\n",
    "days_tot=sales.groupby('Date')['Profit'].sum()\n",
    "most_profit_day=days_tot.idxmax()"
   ]
  },
  {
   "cell_type": "code",
   "execution_count": 94,
   "id": "5fef4266",
   "metadata": {},
   "outputs": [
    {
     "data": {
      "text/plain": [
       "Date\n",
       "21/08/23    6847.34\n",
       "22/08/23    3305.35\n",
       "23/08/23    4392.47\n",
       "24/08/23    4866.03\n",
       "25/08/23    3761.94\n",
       "26/08/23    5223.16\n",
       "27/08/23    3086.46\n",
       "Name: Profit, dtype: float64"
      ]
     },
     "execution_count": 94,
     "metadata": {},
     "output_type": "execute_result"
    }
   ],
   "source": [
    "days_tot"
   ]
  },
  {
   "cell_type": "code",
   "execution_count": 95,
   "id": "5e432550",
   "metadata": {},
   "outputs": [
    {
     "data": {
      "text/plain": [
       "'21/08/23'"
      ]
     },
     "execution_count": 95,
     "metadata": {},
     "output_type": "execute_result"
    }
   ],
   "source": [
    "most_profit_day"
   ]
  },
  {
   "cell_type": "code",
   "execution_count": 96,
   "id": "d15dfe01",
   "metadata": {},
   "outputs": [],
   "source": [
    "#exact day can be found out with datetime function\n",
    "def findday(s):\n",
    "    date_object = datetime.strptime(most_profit_day, '%d/%m/%y')\n",
    "    day = date_object.day\n",
    "    day_of_week = date_object.weekday()\n",
    "    day_name = date_object.strftime('%A')\n",
    "    return day_name"
   ]
  },
  {
   "cell_type": "code",
   "execution_count": 97,
   "id": "20eb9289",
   "metadata": {},
   "outputs": [
    {
     "data": {
      "text/plain": [
       "'Monday'"
      ]
     },
     "execution_count": 97,
     "metadata": {},
     "output_type": "execute_result"
    }
   ],
   "source": [
    "max_profit_day=findday(most_profit_day)\n",
    "max_profit_day"
   ]
  },
  {
   "cell_type": "code",
   "execution_count": 98,
   "id": "b24b81a4",
   "metadata": {},
   "outputs": [
    {
     "data": {
      "text/plain": [
       "'27/08/23'"
      ]
     },
     "execution_count": 98,
     "metadata": {},
     "output_type": "execute_result"
    }
   ],
   "source": [
    "#Q5) day of the week was least profitable for firm\n",
    "least_profit_day=days_tot.idxmin()\n",
    "least_profit_day"
   ]
  },
  {
   "cell_type": "code",
   "execution_count": 99,
   "id": "c3981a8f",
   "metadata": {},
   "outputs": [
    {
     "data": {
      "text/plain": [
       "'Monday'"
      ]
     },
     "execution_count": 99,
     "metadata": {},
     "output_type": "execute_result"
    }
   ],
   "source": [
    "min_profit_day=findday(least_profit_day)\n",
    "min_profit_day"
   ]
  },
  {
   "cell_type": "markdown",
   "id": "afc6a2d5",
   "metadata": {},
   "source": [
    "**Part 2**"
   ]
  },
  {
   "cell_type": "code",
   "execution_count": 100,
   "id": "a6b39a30",
   "metadata": {},
   "outputs": [
    {
     "data": {
      "text/html": [
       "<div>\n",
       "<style scoped>\n",
       "    .dataframe tbody tr th:only-of-type {\n",
       "        vertical-align: middle;\n",
       "    }\n",
       "\n",
       "    .dataframe tbody tr th {\n",
       "        vertical-align: top;\n",
       "    }\n",
       "\n",
       "    .dataframe thead th {\n",
       "        text-align: right;\n",
       "    }\n",
       "</style>\n",
       "<table border=\"1\" class=\"dataframe\">\n",
       "  <thead>\n",
       "    <tr style=\"text-align: right;\">\n",
       "      <th></th>\n",
       "      <th>Date</th>\n",
       "      <th>Firm bought from</th>\n",
       "      <th>Buying price</th>\n",
       "      <th>Quantity bought</th>\n",
       "      <th>Customer</th>\n",
       "      <th>Selling price</th>\n",
       "      <th>Quantity sold</th>\n",
       "    </tr>\n",
       "  </thead>\n",
       "  <tbody>\n",
       "    <tr>\n",
       "      <th>0</th>\n",
       "      <td>2023-08-21</td>\n",
       "      <td>Vendor6</td>\n",
       "      <td>72.11</td>\n",
       "      <td>60</td>\n",
       "      <td>Customer7</td>\n",
       "      <td>91.58</td>\n",
       "      <td>44</td>\n",
       "    </tr>\n",
       "    <tr>\n",
       "      <th>1</th>\n",
       "      <td>2023-08-21</td>\n",
       "      <td>Vendor4</td>\n",
       "      <td>75.08</td>\n",
       "      <td>92</td>\n",
       "      <td>Customer7</td>\n",
       "      <td>83.71</td>\n",
       "      <td>17</td>\n",
       "    </tr>\n",
       "    <tr>\n",
       "      <th>2</th>\n",
       "      <td>2023-08-21</td>\n",
       "      <td>Vendor7</td>\n",
       "      <td>83.93</td>\n",
       "      <td>16</td>\n",
       "      <td>Customer2</td>\n",
       "      <td>103.76</td>\n",
       "      <td>15</td>\n",
       "    </tr>\n",
       "    <tr>\n",
       "      <th>3</th>\n",
       "      <td>2023-08-21</td>\n",
       "      <td>Vendor7</td>\n",
       "      <td>52.01</td>\n",
       "      <td>62</td>\n",
       "      <td>Customer3</td>\n",
       "      <td>64.53</td>\n",
       "      <td>7</td>\n",
       "    </tr>\n",
       "    <tr>\n",
       "      <th>4</th>\n",
       "      <td>2023-08-21</td>\n",
       "      <td>Vendor2</td>\n",
       "      <td>98.91</td>\n",
       "      <td>1</td>\n",
       "      <td>Customer5</td>\n",
       "      <td>140.92</td>\n",
       "      <td>1</td>\n",
       "    </tr>\n",
       "  </tbody>\n",
       "</table>\n",
       "</div>"
      ],
      "text/plain": [
       "         Date Firm bought from  Buying price  Quantity bought   Customer  \\\n",
       "0  2023-08-21          Vendor6         72.11               60  Customer7   \n",
       "1  2023-08-21          Vendor4         75.08               92  Customer7   \n",
       "2  2023-08-21          Vendor7         83.93               16  Customer2   \n",
       "3  2023-08-21          Vendor7         52.01               62  Customer3   \n",
       "4  2023-08-21          Vendor2         98.91                1  Customer5   \n",
       "\n",
       "   Selling price  Quantity sold  \n",
       "0          91.58             44  \n",
       "1          83.71             17  \n",
       "2         103.76             15  \n",
       "3          64.53              7  \n",
       "4         140.92              1  "
      ]
     },
     "execution_count": 100,
     "metadata": {},
     "output_type": "execute_result"
    }
   ],
   "source": [
    "sales2=pd.read_csv('sales_data_2.csv')\n",
    "sales2.head()"
   ]
  },
  {
   "cell_type": "code",
   "execution_count": 101,
   "id": "2e3b49cd",
   "metadata": {},
   "outputs": [
    {
     "data": {
      "text/html": [
       "<div>\n",
       "<style scoped>\n",
       "    .dataframe tbody tr th:only-of-type {\n",
       "        vertical-align: middle;\n",
       "    }\n",
       "\n",
       "    .dataframe tbody tr th {\n",
       "        vertical-align: top;\n",
       "    }\n",
       "\n",
       "    .dataframe thead th {\n",
       "        text-align: right;\n",
       "    }\n",
       "</style>\n",
       "<table border=\"1\" class=\"dataframe\">\n",
       "  <thead>\n",
       "    <tr style=\"text-align: right;\">\n",
       "      <th></th>\n",
       "      <th>Date</th>\n",
       "      <th>Firm bought from</th>\n",
       "      <th>Buying price</th>\n",
       "      <th>Quantity bought</th>\n",
       "      <th>Customer</th>\n",
       "      <th>Selling price</th>\n",
       "      <th>Quantity sold</th>\n",
       "      <th>Gross Profit</th>\n",
       "    </tr>\n",
       "  </thead>\n",
       "  <tbody>\n",
       "    <tr>\n",
       "      <th>0</th>\n",
       "      <td>2023-08-21</td>\n",
       "      <td>Vendor6</td>\n",
       "      <td>72.11</td>\n",
       "      <td>60</td>\n",
       "      <td>Customer7</td>\n",
       "      <td>91.58</td>\n",
       "      <td>44</td>\n",
       "      <td>856.68</td>\n",
       "    </tr>\n",
       "    <tr>\n",
       "      <th>1</th>\n",
       "      <td>2023-08-21</td>\n",
       "      <td>Vendor4</td>\n",
       "      <td>75.08</td>\n",
       "      <td>92</td>\n",
       "      <td>Customer7</td>\n",
       "      <td>83.71</td>\n",
       "      <td>17</td>\n",
       "      <td>146.71</td>\n",
       "    </tr>\n",
       "    <tr>\n",
       "      <th>2</th>\n",
       "      <td>2023-08-21</td>\n",
       "      <td>Vendor7</td>\n",
       "      <td>83.93</td>\n",
       "      <td>16</td>\n",
       "      <td>Customer2</td>\n",
       "      <td>103.76</td>\n",
       "      <td>15</td>\n",
       "      <td>297.45</td>\n",
       "    </tr>\n",
       "    <tr>\n",
       "      <th>3</th>\n",
       "      <td>2023-08-21</td>\n",
       "      <td>Vendor7</td>\n",
       "      <td>52.01</td>\n",
       "      <td>62</td>\n",
       "      <td>Customer3</td>\n",
       "      <td>64.53</td>\n",
       "      <td>7</td>\n",
       "      <td>87.64</td>\n",
       "    </tr>\n",
       "    <tr>\n",
       "      <th>4</th>\n",
       "      <td>2023-08-21</td>\n",
       "      <td>Vendor2</td>\n",
       "      <td>98.91</td>\n",
       "      <td>1</td>\n",
       "      <td>Customer5</td>\n",
       "      <td>140.92</td>\n",
       "      <td>1</td>\n",
       "      <td>42.01</td>\n",
       "    </tr>\n",
       "  </tbody>\n",
       "</table>\n",
       "</div>"
      ],
      "text/plain": [
       "         Date Firm bought from  Buying price  Quantity bought   Customer  \\\n",
       "0  2023-08-21          Vendor6         72.11               60  Customer7   \n",
       "1  2023-08-21          Vendor4         75.08               92  Customer7   \n",
       "2  2023-08-21          Vendor7         83.93               16  Customer2   \n",
       "3  2023-08-21          Vendor7         52.01               62  Customer3   \n",
       "4  2023-08-21          Vendor2         98.91                1  Customer5   \n",
       "\n",
       "   Selling price  Quantity sold  Gross Profit  \n",
       "0          91.58             44        856.68  \n",
       "1          83.71             17        146.71  \n",
       "2         103.76             15        297.45  \n",
       "3          64.53              7         87.64  \n",
       "4         140.92              1         42.01  "
      ]
     },
     "execution_count": 101,
     "metadata": {},
     "output_type": "execute_result"
    }
   ],
   "source": [
    "sales2['Gross Profit']=(sales2['Selling price']-sales2['Buying price'])*sales2['Quantity sold']\n",
    "sales2.head()"
   ]
  },
  {
   "cell_type": "code",
   "execution_count": 102,
   "id": "7b9dd6d5",
   "metadata": {},
   "outputs": [],
   "source": [
    "#q6 calculating 3 day-avg for every day gross profit\n",
    "profit1=list(np.array(sales2['Gross Profit']))"
   ]
  },
  {
   "cell_type": "code",
   "execution_count": 103,
   "id": "be1c412c",
   "metadata": {},
   "outputs": [],
   "source": [
    "daydf=pd.DataFrame()\n",
    "days_tot1=sales2.groupby('Date')['Gross Profit'].sum()"
   ]
  },
  {
   "cell_type": "code",
   "execution_count": 104,
   "id": "15fb3dea",
   "metadata": {},
   "outputs": [],
   "source": [
    "l1=list(days_tot1)\n",
    "l1\n",
    "date=sales2.Date.unique()"
   ]
  },
  {
   "cell_type": "code",
   "execution_count": 105,
   "id": "f2218ec9",
   "metadata": {},
   "outputs": [
    {
     "data": {
      "text/html": [
       "<div>\n",
       "<style scoped>\n",
       "    .dataframe tbody tr th:only-of-type {\n",
       "        vertical-align: middle;\n",
       "    }\n",
       "\n",
       "    .dataframe tbody tr th {\n",
       "        vertical-align: top;\n",
       "    }\n",
       "\n",
       "    .dataframe thead th {\n",
       "        text-align: right;\n",
       "    }\n",
       "</style>\n",
       "<table border=\"1\" class=\"dataframe\">\n",
       "  <thead>\n",
       "    <tr style=\"text-align: right;\">\n",
       "      <th></th>\n",
       "      <th>Date</th>\n",
       "      <th>each_day_avg_gross_profit</th>\n",
       "    </tr>\n",
       "  </thead>\n",
       "  <tbody>\n",
       "    <tr>\n",
       "      <th>0</th>\n",
       "      <td>2023-08-21</td>\n",
       "      <td>6847.34</td>\n",
       "    </tr>\n",
       "    <tr>\n",
       "      <th>1</th>\n",
       "      <td>2023-08-22</td>\n",
       "      <td>3305.35</td>\n",
       "    </tr>\n",
       "    <tr>\n",
       "      <th>2</th>\n",
       "      <td>2023-08-23</td>\n",
       "      <td>4392.47</td>\n",
       "    </tr>\n",
       "    <tr>\n",
       "      <th>3</th>\n",
       "      <td>2023-08-24</td>\n",
       "      <td>4866.03</td>\n",
       "    </tr>\n",
       "    <tr>\n",
       "      <th>4</th>\n",
       "      <td>2023-08-25</td>\n",
       "      <td>3761.94</td>\n",
       "    </tr>\n",
       "    <tr>\n",
       "      <th>5</th>\n",
       "      <td>2023-08-26</td>\n",
       "      <td>5223.16</td>\n",
       "    </tr>\n",
       "    <tr>\n",
       "      <th>6</th>\n",
       "      <td>2023-08-27</td>\n",
       "      <td>3086.46</td>\n",
       "    </tr>\n",
       "  </tbody>\n",
       "</table>\n",
       "</div>"
      ],
      "text/plain": [
       "         Date  each_day_avg_gross_profit\n",
       "0  2023-08-21                    6847.34\n",
       "1  2023-08-22                    3305.35\n",
       "2  2023-08-23                    4392.47\n",
       "3  2023-08-24                    4866.03\n",
       "4  2023-08-25                    3761.94\n",
       "5  2023-08-26                    5223.16\n",
       "6  2023-08-27                    3086.46"
      ]
     },
     "execution_count": 105,
     "metadata": {},
     "output_type": "execute_result"
    }
   ],
   "source": [
    "daydf[\"Date\"]=date\n",
    "daydf[\"each_day_avg_gross_profit\"]=l1\n",
    "daydf"
   ]
  },
  {
   "cell_type": "code",
   "execution_count": 106,
   "id": "45427c0e",
   "metadata": {},
   "outputs": [],
   "source": [
    "profit1=list(daydf[\"each_day_avg_gross_profit\"])\n"
   ]
  },
  {
   "cell_type": "code",
   "execution_count": 107,
   "id": "f5437cb3",
   "metadata": {},
   "outputs": [],
   "source": [
    "list2=[] # 3day avg profit list\n",
    "temp=[0,0,0]\n",
    "for i in profit1:\n",
    "    temp.append(i)\n",
    "    temp.pop(0)\n",
    "    avg=sum(temp)/3\n",
    "    list2.append(avg)"
   ]
  },
  {
   "cell_type": "code",
   "execution_count": 108,
   "id": "67b248b3",
   "metadata": {},
   "outputs": [],
   "source": [
    "daydf[\"3dayavg\"]=list2"
   ]
  },
  {
   "cell_type": "code",
   "execution_count": 109,
   "id": "1d361e6c",
   "metadata": {},
   "outputs": [
    {
     "data": {
      "text/html": [
       "<div>\n",
       "<style scoped>\n",
       "    .dataframe tbody tr th:only-of-type {\n",
       "        vertical-align: middle;\n",
       "    }\n",
       "\n",
       "    .dataframe tbody tr th {\n",
       "        vertical-align: top;\n",
       "    }\n",
       "\n",
       "    .dataframe thead th {\n",
       "        text-align: right;\n",
       "    }\n",
       "</style>\n",
       "<table border=\"1\" class=\"dataframe\">\n",
       "  <thead>\n",
       "    <tr style=\"text-align: right;\">\n",
       "      <th></th>\n",
       "      <th>Date</th>\n",
       "      <th>each_day_avg_gross_profit</th>\n",
       "      <th>3dayavg</th>\n",
       "    </tr>\n",
       "  </thead>\n",
       "  <tbody>\n",
       "    <tr>\n",
       "      <th>0</th>\n",
       "      <td>2023-08-21</td>\n",
       "      <td>6847.34</td>\n",
       "      <td>2282.446667</td>\n",
       "    </tr>\n",
       "    <tr>\n",
       "      <th>1</th>\n",
       "      <td>2023-08-22</td>\n",
       "      <td>3305.35</td>\n",
       "      <td>3384.230000</td>\n",
       "    </tr>\n",
       "    <tr>\n",
       "      <th>2</th>\n",
       "      <td>2023-08-23</td>\n",
       "      <td>4392.47</td>\n",
       "      <td>4848.386667</td>\n",
       "    </tr>\n",
       "    <tr>\n",
       "      <th>3</th>\n",
       "      <td>2023-08-24</td>\n",
       "      <td>4866.03</td>\n",
       "      <td>4187.950000</td>\n",
       "    </tr>\n",
       "    <tr>\n",
       "      <th>4</th>\n",
       "      <td>2023-08-25</td>\n",
       "      <td>3761.94</td>\n",
       "      <td>4340.146667</td>\n",
       "    </tr>\n",
       "    <tr>\n",
       "      <th>5</th>\n",
       "      <td>2023-08-26</td>\n",
       "      <td>5223.16</td>\n",
       "      <td>4617.043333</td>\n",
       "    </tr>\n",
       "    <tr>\n",
       "      <th>6</th>\n",
       "      <td>2023-08-27</td>\n",
       "      <td>3086.46</td>\n",
       "      <td>4023.853333</td>\n",
       "    </tr>\n",
       "  </tbody>\n",
       "</table>\n",
       "</div>"
      ],
      "text/plain": [
       "         Date  each_day_avg_gross_profit      3dayavg\n",
       "0  2023-08-21                    6847.34  2282.446667\n",
       "1  2023-08-22                    3305.35  3384.230000\n",
       "2  2023-08-23                    4392.47  4848.386667\n",
       "3  2023-08-24                    4866.03  4187.950000\n",
       "4  2023-08-25                    3761.94  4340.146667\n",
       "5  2023-08-26                    5223.16  4617.043333\n",
       "6  2023-08-27                    3086.46  4023.853333"
      ]
     },
     "execution_count": 109,
     "metadata": {},
     "output_type": "execute_result"
    }
   ],
   "source": [
    "daydf"
   ]
  },
  {
   "cell_type": "code",
   "execution_count": 110,
   "id": "e5465097",
   "metadata": {},
   "outputs": [
    {
     "data": {
      "text/plain": [
       "[<matplotlib.lines.Line2D at 0x1cff5bb2590>]"
      ]
     },
     "execution_count": 110,
     "metadata": {},
     "output_type": "execute_result"
    },
    {
     "data": {
      "image/png": "[encoded data removed]",
      "text/plain": [
       "<Figure size 640x480 with 1 Axes>"
      ]
     },
     "metadata": {},
     "output_type": "display_data"
    }
   ],
   "source": [
    "# Q7)insights into how this 3-day trend changes over the time period covered in the dataset.\n",
    "plt.plot(daydf[\"each_day_avg_gross_profit\"],color='blue')\n",
    "plt.plot(daydf[\"3dayavg\"],color='red')"
   ]
  },
  {
   "cell_type": "code",
   "execution_count": 111,
   "id": "dd3ba279",
   "metadata": {},
   "outputs": [],
   "source": [
    "#Q8 to optimize the sales process to ensure gross margin is maximized , we should find the under performing vendors and customers \n",
    "sales2['Gross Margin'] = (sales2['Gross Profit'] / (sales2['Selling price']*sales2['Quantity sold'])) * 100\n"
   ]
  },
  {
   "cell_type": "code",
   "execution_count": 112,
   "id": "dd875016",
   "metadata": {},
   "outputs": [
    {
     "data": {
      "text/plain": [
       "Firm bought from\n",
       "Vendor1     20.506424\n",
       "Vendor10    20.640650\n",
       "Vendor2     21.464251\n",
       "Vendor3     25.114488\n",
       "Vendor4     21.053258\n",
       "Vendor5     20.697900\n",
       "Vendor6     18.580492\n",
       "Vendor7     21.530024\n",
       "Vendor8     17.319641\n",
       "Vendor9     27.041627\n",
       "Name: Gross Margin, dtype: float64"
      ]
     },
     "execution_count": 112,
     "metadata": {},
     "output_type": "execute_result"
    }
   ],
   "source": [
    "#to find under performing vendors:\n",
    "average_margin_by_vendor = sales2.groupby('Firm bought from')['Gross Margin'].mean()\n",
    "average_margin_by_vendor"
   ]
  },
  {
   "cell_type": "code",
   "execution_count": 113,
   "id": "ac763510",
   "metadata": {},
   "outputs": [
    {
     "name": "stdout",
     "output_type": "stream",
     "text": [
      "Underperforming Vendors:\n",
      "Firm bought from\n",
      "Vendor1     20.506424\n",
      "Vendor10    20.640650\n",
      "Vendor4     21.053258\n",
      "Vendor5     20.697900\n",
      "Vendor6     18.580492\n",
      "Vendor8     17.319641\n",
      "Name: Gross Margin, dtype: float64\n"
     ]
    }
   ],
   "source": [
    "underperforming_vendors = average_margin_by_vendor[average_margin_by_vendor < average_margin_by_vendor.mean()]\n",
    "print(\"Underperforming Vendors:\")\n",
    "print(underperforming_vendors)"
   ]
  },
  {
   "cell_type": "code",
   "execution_count": 114,
   "id": "8696829f",
   "metadata": {},
   "outputs": [],
   "source": [
    "# we can fire the least performing vendor or re-negotiate terms"
   ]
  },
  {
   "cell_type": "code",
   "execution_count": 115,
   "id": "84db1eaf",
   "metadata": {},
   "outputs": [
    {
     "data": {
      "text/plain": [
       "Customer\n",
       "Customer1     21.671423\n",
       "Customer10    24.035988\n",
       "Customer2     23.016196\n",
       "Customer3     18.435305\n",
       "Customer4     22.324594\n",
       "Customer5     21.758029\n",
       "Customer6     24.955008\n",
       "Customer7     17.994085\n",
       "Customer8     21.702644\n",
       "Customer9     21.112678\n",
       "Name: Gross Margin, dtype: float64"
      ]
     },
     "execution_count": 115,
     "metadata": {},
     "output_type": "execute_result"
    }
   ],
   "source": [
    "#to find under performing customers:\n",
    "average_margin_by_customer = sales2.groupby('Customer')['Gross Margin'].mean()\n",
    "average_margin_by_customer"
   ]
  },
  {
   "cell_type": "code",
   "execution_count": 116,
   "id": "fbb2b573",
   "metadata": {},
   "outputs": [
    {
     "name": "stdout",
     "output_type": "stream",
     "text": [
      "Underperforming customers:\n",
      "Customer\n",
      "Customer1    21.671423\n",
      "Customer3    18.435305\n",
      "Customer7    17.994085\n",
      "Customer9    21.112678\n",
      "Name: Gross Margin, dtype: float64\n"
     ]
    }
   ],
   "source": [
    "underperforming_customers = average_margin_by_customer[average_margin_by_customer < average_margin_by_customer.mean()]\n",
    "print(\"Underperforming customers:\")\n",
    "print(underperforming_customers)"
   ]
  },
  {
   "cell_type": "code",
   "execution_count": 117,
   "id": "c7a02d28",
   "metadata": {},
   "outputs": [],
   "source": [
    "#we can let go the least performing customer or re-negotiate terms"
   ]
  },
  {
   "cell_type": "code",
   "execution_count": 118,
   "id": "f81c4a91",
   "metadata": {},
   "outputs": [
    {
     "name": "stdout",
     "output_type": "stream",
     "text": [
      "Buying Price Percentiles:\n",
      "25th Percentile:  29.9\n",
      "Median 50th Percentile:  60.76\n",
      "75th Percentile:  78.32000000000001\n",
      "\n",
      "Selling Price Percentiles:\n",
      "25th Percentile:  38.975\n",
      "Median (50th Percentile):  78.99000000000001\n",
      "75th Percentile:  103.39750000000001\n"
     ]
    }
   ],
   "source": [
    "#Q9 calculation of the 25th, 50th (median), and 75th percentiles for both buying and selling prices? \n",
    "\n",
    "buying_price_25th = np.percentile(sales2['Buying price'], 25)\n",
    "buying_price_median = np.percentile(sales2['Buying price'], 50)\n",
    "buying_price_75th = np.percentile(sales2['Buying price'], 75)\n",
    "selling_price_25th = np.percentile(sales2['Selling price'], 25)\n",
    "selling_price_median = np.percentile(sales2['Selling price'], 50)\n",
    "selling_price_75th = np.percentile(sales2['Selling price'], 75)\n",
    "\n",
    "print(\"Buying Price Percentiles:\")\n",
    "print(\"25th Percentile: \",buying_price_25th)\n",
    "print(\"Median 50th Percentile: \",buying_price_median)\n",
    "print(\"75th Percentile: \",buying_price_75th)\n",
    "print(\"\\nSelling Price Percentiles:\")\n",
    "print(\"25th Percentile: \",selling_price_25th)\n",
    "print(\"Median (50th Percentile): \",selling_price_median)\n",
    "print(\"75th Percentile: \",selling_price_75th)"
   ]
  },
  {
   "cell_type": "code",
   "execution_count": 119,
   "id": "db978b33",
   "metadata": {},
   "outputs": [
    {
     "name": "stdout",
     "output_type": "stream",
     "text": [
      "Buying Price Analysis:\n",
      "Transactions below 25th percentile: 18 (25.71%)\n",
      "Transactions above 75th percentile: 18 (25.71%)\n",
      "\n",
      "Selling Price Analysis:\n",
      "Transactions below 25th percentile: 18 (25.71%)\n",
      "Transactions above 75th percentile: 18 (25.71%)\n"
     ]
    }
   ],
   "source": [
    "#Q10) analyzing how often the Sapota’s prices fall below the 25th percentile or above the 75th percentile, potentially indicating they are buying at a high price or selling at a low price relative to their own transaction history.\n",
    "\n",
    "buying_below_25th = (sales2['Buying price'] < buying_price_25th).sum()\n",
    "buying_above_75th = (sales2['Buying price'] > buying_price_75th).sum()\n",
    "\n",
    "selling_below_25th = (sales2['Selling price'] < selling_price_25th).sum()\n",
    "selling_above_75th = (sales2['Selling price'] > selling_price_75th).sum()\n",
    "\n",
    "# Calculate the frequency/percentage of transactions falling below/above percentiles\n",
    "total_transactions = len(sales2)\n",
    "buying_below_25th_percentage = (buying_below_25th / total_transactions) * 100\n",
    "buying_above_75th_percentage = (buying_above_75th / total_transactions) * 100\n",
    "selling_below_25th_percentage = (selling_below_25th / total_transactions) * 100\n",
    "selling_above_75th_percentage = (selling_above_75th / total_transactions) * 100\n",
    "\n",
    "print(\"Buying Price Analysis:\")\n",
    "print(f\"Transactions below 25th percentile: {buying_below_25th} ({buying_below_25th_percentage:.2f}%)\")\n",
    "print(f\"Transactions above 75th percentile: {buying_above_75th} ({buying_above_75th_percentage:.2f}%)\")\n",
    "print(\"\\nSelling Price Analysis:\")\n",
    "print(f\"Transactions below 25th percentile: {selling_below_25th} ({selling_below_25th_percentage:.2f}%)\")\n",
    "print(f\"Transactions above 75th percentile: {selling_above_75th} ({selling_above_75th_percentage:.2f}%)\")"
   ]
  },
  {
   "cell_type": "code",
   "execution_count": 120,
   "id": "a76962b4",
   "metadata": {},
   "outputs": [],
   "source": [
    "#Q11) vendor 4 needs to be honoured"
   ]
  },
  {
   "cell_type": "markdown",
   "id": "cf0a669c",
   "metadata": {},
   "source": [
    "**SO VENDOR 4 IS ONE OF THE UNDER PERFORMING VENDORS AS WE DESCOVERED BEFORE , HE IS JUST BELOW THE MEAN SO HE IS NOT TOO BAD SO IN ORDER TO HONER HIM WE CAN AGREE TO BUY MORE QUANTITY FROM HIM IMPROVING OUR PROFIT MARGIN OR AGREE TO BUY HIS SAPOTA FOR A LOWER PRICE THIS WILL ALSO IMPROVE OUR PROFIT MARGIN**"
   ]
  },
  {
   "cell_type": "code",
   "execution_count": 121,
   "id": "933b988b",
   "metadata": {},
   "outputs": [
    {
     "data": {
      "text/plain": [
       "Firm bought from\n",
       "Vendor1     20.506424\n",
       "Vendor10    20.640650\n",
       "Vendor2     21.464251\n",
       "Vendor3     25.114488\n",
       "Vendor4     21.053258\n",
       "Vendor5     20.697900\n",
       "Vendor6     18.580492\n",
       "Vendor7     21.530024\n",
       "Vendor8     17.319641\n",
       "Vendor9     27.041627\n",
       "Name: Gross Margin, dtype: float64"
      ]
     },
     "execution_count": 121,
     "metadata": {},
     "output_type": "execute_result"
    }
   ],
   "source": [
    "#Q12)A vendor with higher average gross margin can be a potential candidate for a strategic partnership.\n",
    "# from details calculated from Q8)\n",
    "average_margin_by_vendor"
   ]
  },
  {
   "cell_type": "code",
   "execution_count": 122,
   "id": "3259cb9f",
   "metadata": {},
   "outputs": [],
   "source": [
    "potential_vendor=average_margin_by_vendor.idxmax()"
   ]
  },
  {
   "cell_type": "code",
   "execution_count": 123,
   "id": "d57708bd",
   "metadata": {},
   "outputs": [
    {
     "data": {
      "text/plain": [
       "'Vendor9'"
      ]
     },
     "execution_count": 123,
     "metadata": {},
     "output_type": "execute_result"
    }
   ],
   "source": [
    "potential_vendor"
   ]
  },
  {
   "cell_type": "code",
   "execution_count": 124,
   "id": "02e14143",
   "metadata": {},
   "outputs": [
    {
     "data": {
      "text/plain": [
       "27.041627485896782"
      ]
     },
     "execution_count": 124,
     "metadata": {},
     "output_type": "execute_result"
    }
   ],
   "source": [
    "theoretical_max_margin = average_margin_by_vendor.max()\n",
    "theoretical_max_margin"
   ]
  },
  {
   "cell_type": "code",
   "execution_count": 126,
   "id": "171a0904",
   "metadata": {},
   "outputs": [
    {
     "name": "stdout",
     "output_type": "stream",
     "text": [
      "The price elasticity of Sapota for this branch is: 7.31\n"
     ]
    }
   ],
   "source": [
    "# Q13) price elasticity of Sapota for that branch? (If you increase by Rs.1, how much sales will go up/down and if you decrease price by Rs. 1, how much sales will go up/down)\n",
    "price_change = 1\n",
    "quantity_change = theoretical_max_margin / 100  # Assuming 1% change in quantity demanded for 1% change in price\n",
    "\n",
    "# Calculate the percentage change in price and quantity\n",
    "percentage_change_price = (price_change / theoretical_max_margin) * 100\n",
    "percentage_change_quantity = (quantity_change / 1) * 100  # Assuming 1% change in price leads to x% change in quantity\n",
    "\n",
    "# Calculate price elasticity\n",
    "price_elasticity = percentage_change_quantity / percentage_change_price\n",
    "\n",
    "print(f\"The price elasticity of Sapota for this branch is: {price_elasticity:.2f}\")"
   ]
  },
  {
   "cell_type": "code",
   "execution_count": null,
   "id": "f21790f0",
   "metadata": {},
   "outputs": [],
   "source": []
  },
  {
   "cell_type": "code",
   "execution_count": null,
   "id": "9c88715b",
   "metadata": {},
   "outputs": [],
   "source": []
  }
 ],
 "metadata": {
  "kernelspec": {
   "display_name": "Python 3 (ipykernel)",
   "language": "python",
   "name": "python3"
  },
  "language_info": {
   "codemirror_mode": {
    "name": "ipython",
    "version": 3
   },
   "file_extension": ".py",
   "mimetype": "text/x-python",
   "name": "python",
   "nbconvert_exporter": "python",
   "pygments_lexer": "ipython3",
   "version": "3.10.6"
  }
 },
 "nbformat": 4,
 "nbformat_minor": 5
}
